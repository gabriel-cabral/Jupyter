{
 "cells": [
  {
   "cell_type": "code",
   "execution_count": 4,
   "metadata": {},
   "outputs": [
    {
     "name": "stdout",
     "output_type": "stream",
     "text": [
      "Nome do Aluno: Antônio de Barros Castro\n",
      "Nota do Primeiro Bimestre: 7.0\n",
      "Nota do Segundo Bimestre: 5.6\n",
      "Nota do Terceiro Bimestre: 6.8\n",
      "Nota do Quarto Bimestre: 8.2\n",
      "O Aluno Antônio de Barros Castro\n",
      "Com a nota 6.8999999999999995\n",
      "Está Reprovado\n"
     ]
    }
   ],
   "source": [
    "Nome = str(input(\"Nome do Aluno: \"))\n",
    "\n",
    "Bim1 = float(input(\"Nota do Primeiro Bimestre: \"))\n",
    "Bim2 = float(input(\"Nota do Segundo Bimestre: \"))\n",
    "Bim3 = float(input(\"Nota do Terceiro Bimestre: \"))\n",
    "Bim4 = float(input(\"Nota do Quarto Bimestre: \"))\n",
    "\n",
    "Media = ((Bim1+Bim2+Bim3+Bim4)/4)\n",
    "\n",
    "if Media >= 7.0:\n",
    "    print(\"O Aluno\", Nome)\n",
    "    print(\"Com a nota\", Media)\n",
    "    print(\"Está Aprovado\")\n",
    "\n",
    "elif Media <= 4.0 and Media = 6.9:\n",
    "    print(\"O Aluno\", Nome)\n",
    "    print(\"Com a nota\", Media)\n",
    "    print(\"Está em Recuperação\")\n",
    "\n",
    "else:\n",
    "    print(\"O Aluno\", Nome)\n",
    "    print(\"Com a nota\", Media)\n",
    "    print(\"Está Reprovado\")"
   ]
  },
  {
   "cell_type": "code",
   "execution_count": null,
   "metadata": {},
   "outputs": [],
   "source": []
  }
 ],
 "metadata": {
  "kernelspec": {
   "display_name": "Python 3",
   "language": "python",
   "name": "python3"
  },
  "language_info": {
   "codemirror_mode": {
    "name": "ipython",
    "version": 3
   },
   "file_extension": ".py",
   "mimetype": "text/x-python",
   "name": "python",
   "nbconvert_exporter": "python",
   "pygments_lexer": "ipython3",
   "version": "3.7.1"
  }
 },
 "nbformat": 4,
 "nbformat_minor": 2
}
