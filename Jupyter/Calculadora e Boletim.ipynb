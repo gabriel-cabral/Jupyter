{
 "cells": [
  {
   "cell_type": "code",
   "execution_count": 9,
   "metadata": {},
   "outputs": [
    {
     "name": "stdout",
     "output_type": "stream",
     "text": [
      "C A L C U L A D O R A\n",
      "\n",
      "\n",
      "Escolha de Operações:\n",
      "— Soma;\n",
      "— Subtração;\n",
      "— Multiplicação;\n",
      "— Divisão.\n",
      "\n",
      "\n",
      "• Operação a executar: Soma\n",
      "• Primeiro número: -5\n",
      "• Segundo número: 10\n",
      "\n",
      "\n",
      "-5 + 10 = 5\n"
     ]
    }
   ],
   "source": [
    "print(\"C A L C U L A D O R A\")\n",
    "\n",
    "def adicao(numero1, numero2):\n",
    "    return numero1 + numero2\n",
    "def subtracao(numero1, numero2):\n",
    "    return numero1 - numero2\n",
    "def multiplicacao(numero1, numero2):\n",
    "    return numero1 * numero2\n",
    "def divisao(numero1, numero2):\n",
    "    return numero1 / numero2\n",
    "\n",
    "print(\"\\n\")\n",
    "print(\"Escolha de Operações:\")\n",
    "print(\"— Soma;\")\n",
    "print(\"— Subtração;\")\n",
    "print(\"— Multiplicação;\")\n",
    "print(\"— Divisão.\")\n",
    "print(\"\\n\")\n",
    "\n",
    "operacao = str(input(\"• Operação a executar: \"))\n",
    "numero1 = int(input(\"• Primeiro número: \"))\n",
    "numero2 = int(input(\"• Segundo número: \"))\n",
    "\n",
    "if operacao == \"Soma\":\n",
    "    print(\"\\n\")\n",
    "    print(numero1, \"+\", numero2, \"=\", adicao(numero1, numero2))\n",
    "elif operacao == \"Subtração\":\n",
    "    print(\"\\n\")\n",
    "    print(numero1, \"-\", numero2, \"=\", subtracao(numero1, numero2))\n",
    "elif operacao == \"Multiplicação\":\n",
    "    print(\"\\n\")\n",
    "    print(numero1, \"x\", numero2, \"=\", multiplicacao(numero1, numero2))\n",
    "elif operacao == \"Divisão\":\n",
    "    print(\"\\n\")\n",
    "    print(numero1, \"/\", numero2, \"=\", divisao(numero1, numero2))\n",
    "else:\n",
    "    print(\"\\n\")\n",
    "    print(\"Operação inválida...\")"
   ]
  },
  {
   "cell_type": "code",
   "execution_count": 29,
   "metadata": {},
   "outputs": [
    {
     "name": "stdout",
     "output_type": "stream",
     "text": [
      "B O L E T I M\n",
      "\n",
      "\n",
      "Nome do aluno: Gabriel Santos Cabral.\n",
      "\n",
      "\n",
      "Nota do 1º bimestre: 7.5\n",
      "Nota do 2º bimestre: 6.0\n",
      "Nota do 3º bimestre: 8.0\n",
      "Nota do 4º bimestre: 8.5\n",
      "\n",
      "\n",
      "Nota final: \n",
      "7.5 + 6.0 + 8.0 + 8.5 = 30.0\n",
      "30.0 / 4 = 7.5\n",
      "\n",
      "\n",
      "O aluno, com a nota final 7.5 , está aprovado.\n"
     ]
    }
   ],
   "source": [
    "print(\"B O L E T I M\")\n",
    "print(\"\\n\")\n",
    "\n",
    "def Soma(Bimestre1, Bimestre2, Bimestre3, Bimestre4):\n",
    "    return Bimestre1 + Bimestre2 + Bimestre3 + Bimestre4\n",
    "\n",
    "Media = Soma(Bimestre1, Bimestre2, Bimestre3, Bimestre4) / 4\n",
    "\n",
    "Nome = str(input(\"Nome do aluno: \"))\n",
    "print(\"\\n\")\n",
    "\n",
    "Bimestre1 = float(input(\"Nota do 1º bimestre: \"))\n",
    "Bimestre2 = float(input(\"Nota do 2º bimestre: \"))\n",
    "Bimestre3 = float(input(\"Nota do 3º bimestre: \"))\n",
    "Bimestre4 = float(input(\"Nota do 4º bimestre: \"))\n",
    "print(\"\\n\")\n",
    "print(\"Nota final: \")\n",
    "print(Bimestre1, \"+\", Bimestre2, \"+\", Bimestre3, \"+\", Bimestre4, \"=\", Soma(Bimestre1, Bimestre2, Bimestre3, Bimestre4))\n",
    "print(Soma(Bimestre1, Bimestre2, Bimestre3, Bimestre4), \"/\", 4, \"=\", Media)\n",
    "\n",
    "if Media >= 7.0:\n",
    "    print(\"\\n\")\n",
    "    print(\"O aluno, com a nota final\", Media, \", está aprovado.\")\n",
    "elif Media >= 4.0 and Media <= 6.9:\n",
    "    print(\"\\n\")\n",
    "    print(\"O aluno, com a nota final\", Media, \", está de recuperação.\")\n",
    "else:\n",
    "    print(\"\\n\")\n",
    "    print(\"O aluno, com a nota final deficiente, está reprovado.\")"
   ]
  },
  {
   "cell_type": "code",
   "execution_count": null,
   "metadata": {},
   "outputs": [],
   "source": []
  }
 ],
 "metadata": {
  "kernelspec": {
   "display_name": "Python 3",
   "language": "python",
   "name": "python3"
  },
  "language_info": {
   "codemirror_mode": {
    "name": "ipython",
    "version": 3
   },
   "file_extension": ".py",
   "mimetype": "text/x-python",
   "name": "python",
   "nbconvert_exporter": "python",
   "pygments_lexer": "ipython3",
   "version": "3.7.1"
  }
 },
 "nbformat": 4,
 "nbformat_minor": 2
}
