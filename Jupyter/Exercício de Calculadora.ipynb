{
 "cells": [
  {
   "cell_type": "code",
   "execution_count": 8,
   "metadata": {},
   "outputs": [
    {
     "name": "stdout",
     "output_type": "stream",
     "text": [
      "Calculadora\n",
      "Valor x: 5\n",
      "Valor y: 17\n",
      "Insira escolha: 2\n",
      "Resultado:  -12\n"
     ]
    }
   ],
   "source": [
    "print(\"Calculadora\")\n",
    "\n",
    "def adicao(x, y):\n",
    "    return x + y\n",
    "def subtracao(x, y):\n",
    "    return x - y\n",
    "def multiplicacao(x, y):\n",
    "    return x * y\n",
    "def divisao(x, y):\n",
    "    return x / y\n",
    "\n",
    "x = int(input(\"Valor x: \"))\n",
    "y = int(input(\"Valor y: \"))\n",
    "escolha = int(input(\"Insira escolha: \"))\n",
    "\n",
    "if escolha == 1:\n",
    "    print (\"Resultado: \", adicao(x, y))\n",
    "elif escolha == 2:\n",
    "    print (\"Resultado: \", subtracao(x, y))\n",
    "elif escolha == 3:\n",
    "    print (\"Resultado: \", multiplicacao(x, y))\n",
    "elif escolha == 4:\n",
    "    print (\"Resultado: \", divisao(x, y))\n",
    "else:\n",
    "    print(\"Operação Inválida...\")"
   ]
  },
  {
   "cell_type": "code",
   "execution_count": 9,
   "metadata": {},
   "outputs": [
    {
     "name": "stdout",
     "output_type": "stream",
     "text": [
      "Calculadora\n",
      "\n",
      " selecione o nº da op desejada \n",
      "\n",
      "1 - soma\n",
      "2 - subtração\n",
      "3 - multiplicação\n",
      "4 - divsão\n",
      "\n",
      " Digite a sua opção: 1\u0002\u0003\u0004 1\n",
      "Digite o primeiro número: 5\n",
      "Digite o segundo número: 17\n",
      "\n",
      "\n",
      "5 + 17 = 22\n",
      "\n",
      "\n"
     ]
    }
   ],
   "source": [
    "print(\"Calculadora\")\n",
    "\n",
    "def add(x, y):\n",
    "    return x + y\n",
    "def subtract(x, y):\n",
    "    return x - y\n",
    "def  multiply(x, y):\n",
    "    return x * y\n",
    "def divide(x, y):\n",
    "    return x / y\n",
    "\n",
    "print(\"\\n selecione o nº da op desejada \\n\")\n",
    "print(\"1 - soma\")\n",
    "print(\"2 - subtração\")\n",
    "print(\"3 - multiplicação\")\n",
    "print(\"4 - divsão\")\n",
    "\n",
    "escolha = input(\"\\n Digite a sua opção: 1\\2\\3\\4 \")\n",
    "num1 = int(input(\"Digite o primeiro número: \"))\n",
    "num2 = int(input(\"Digite o segundo número: \"))\n",
    "\n",
    "if escolha == \"1\":\n",
    "    print(\"\\n\")\n",
    "    print(num1, \"+\", num2, \"=\", add(num1, num2))\n",
    "    print(\"\\n\")\n",
    "elif escolha == \"2\":\n",
    "    print(\"\\n\")\n",
    "    print(num1, \"-\", num2, \"=\", subtract(num1, num2))\n",
    "    print(\"\\n\")\n",
    "elif escolha == \"3\":\n",
    "    print(\"\\n\")\n",
    "    print(num1, \"x\", num2, \"=\", multiply(num1, num2))\n",
    "    print(\"\\n\")\n",
    "elif escolha == \"4\":\n",
    "    print(\"\\n\")\n",
    "    print(num1, \"/\", num2, \"=\", divide(num1, num2))\n",
    "else:\n",
    "    print(\"Operação Inválida...\")"
   ]
  },
  {
   "cell_type": "code",
   "execution_count": null,
   "metadata": {},
   "outputs": [],
   "source": []
  }
 ],
 "metadata": {
  "kernelspec": {
   "display_name": "Python 3",
   "language": "python",
   "name": "python3"
  },
  "language_info": {
   "codemirror_mode": {
    "name": "ipython",
    "version": 3
   },
   "file_extension": ".py",
   "mimetype": "text/x-python",
   "name": "python",
   "nbconvert_exporter": "python",
   "pygments_lexer": "ipython3",
   "version": "3.7.1"
  }
 },
 "nbformat": 4,
 "nbformat_minor": 2
}
