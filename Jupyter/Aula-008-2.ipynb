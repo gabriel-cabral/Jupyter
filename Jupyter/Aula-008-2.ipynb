{
 "cells": [
  {
   "cell_type": "code",
   "execution_count": 3,
   "metadata": {},
   "outputs": [
    {
     "ename": "SyntaxError",
     "evalue": "invalid syntax (<ipython-input-3-0ad6d5be1030>, line 8)",
     "output_type": "error",
     "traceback": [
      "\u001b[1;36m  File \u001b[1;32m\"<ipython-input-3-0ad6d5be1030>\"\u001b[1;36m, line \u001b[1;32m8\u001b[0m\n\u001b[1;33m    Media = (Bim1, Bim2, Bim3, Bim4):\u001b[0m\n\u001b[1;37m                                    ^\u001b[0m\n\u001b[1;31mSyntaxError\u001b[0m\u001b[1;31m:\u001b[0m invalid syntax\n"
     ]
    }
   ],
   "source": [
    "Nome = str(input(\"Nome do aluno\"))\n",
    "\n",
    "Bim1 = float(input(\"Nota do Primeiro Bimestre\"))\n",
    "Bim2 = float(input(\"Nota do Segundo Bimestre\"))\n",
    "Bim3 = float(input(\"Nota do Terceiro Bimsetre\"))\n",
    "Bim4 = float(input(\"Nota do Quarto Bimestre\"))\n",
    "\n",
    "Media = (Bim1, Bim2, Bim3, Bim4):"
   ]
  },
  {
   "cell_type": "code",
   "execution_count": null,
   "metadata": {},
   "outputs": [],
   "source": []
  }
 ],
 "metadata": {
  "kernelspec": {
   "display_name": "Python 3",
   "language": "python",
   "name": "python3"
  },
  "language_info": {
   "codemirror_mode": {
    "name": "ipython",
    "version": 3
   },
   "file_extension": ".py",
   "mimetype": "text/x-python",
   "name": "python",
   "nbconvert_exporter": "python",
   "pygments_lexer": "ipython3",
   "version": "3.7.1"
  }
 },
 "nbformat": 4,
 "nbformat_minor": 2
}
