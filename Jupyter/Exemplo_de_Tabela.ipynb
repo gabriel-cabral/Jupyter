{
 "cells": [
  {
   "cell_type": "markdown",
   "metadata": {},
   "source": [
    "# Heading 1 Exemplo de Tabela\n",
    "\n",
    "| Isso eh  | uma tabela |\n",
    "| - - - - -| - - - - -  |\n",
    "| Linha Div| Linha Div2 |"
   ]
  },
  {
   "cell_type": "markdown",
   "metadata": {},
   "source": [
    "| Isso eh  | uma tabela |\n",
    "| - - - - -| - - - - -  |\n",
    "| Linha Div| Linha Div2 |"
   ]
  },
  {
   "cell_type": "markdown",
   "metadata": {},
   "source": [
    "### Tabela de Operações Numéricas\n",
    "\n",
    "|   OP    |   Significado   |    Exemplo   |\n",
    "|---------|-----------------|--------------|\n",
    "|    +    |      Soma       |     2+2=4    |\n",
    "|    -    |    Subtração    |     3-2=1    |\n",
    "|    x    |  Multiplicação  |     2x2=4    |\n",
    "|    /    |     Divisão     |    10/2=5    |\n",
    "|    %    |     Módulo      |     5%2=1    |\n",
    "|   xx    |    Potência     |    4xx2=16   |\n",
    "|  int()  |  Conversão Int  |  int(3.2)=3  |\n",
    "| float() | Conversão Float | float(2)=2.0 |"
   ]
  },
  {
   "cell_type": "code",
   "execution_count": null,
   "metadata": {},
   "outputs": [],
   "source": []
  }
 ],
 "metadata": {
  "kernelspec": {
   "display_name": "Python 3",
   "language": "python",
   "name": "python3"
  },
  "language_info": {
   "codemirror_mode": {
    "name": "ipython",
    "version": 3
   },
   "file_extension": ".py",
   "mimetype": "text/x-python",
   "name": "python",
   "nbconvert_exporter": "python",
   "pygments_lexer": "ipython3",
   "version": "3.7.1"
  }
 },
 "nbformat": 4,
 "nbformat_minor": 2
}
