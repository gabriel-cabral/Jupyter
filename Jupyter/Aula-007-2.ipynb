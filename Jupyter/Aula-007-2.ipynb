{
 "cells": [
  {
   "cell_type": "code",
   "execution_count": 1,
   "metadata": {},
   "outputs": [
    {
     "name": "stdout",
     "output_type": "stream",
     "text": [
      "0\n",
      "1\n",
      "2\n",
      "3\n",
      "4\n",
      "5\n",
      "6\n",
      "7\n",
      "8\n",
      "9\n"
     ]
    }
   ],
   "source": [
    "contador3 = 0\n",
    "while contador3 < 10:\n",
    "    print(contador3)\n",
    "    contador3 = contador3 + 1"
   ]
  },
  {
   "cell_type": "markdown",
   "metadata": {},
   "source": [
    "Crie um código onde o usuário entre como:\n",
    "\n",
    "    - Nome:\n",
    "    - Senha:\n",
    "\n",
    "E a mensagem surgirá se o nome e senha forem iguais."
   ]
  },
  {
   "cell_type": "code",
   "execution_count": 2,
   "metadata": {},
   "outputs": [
    {
     "name": "stdout",
     "output_type": "stream",
     "text": [
      "Nome de UsuárioGabriel_SC\n",
      "SenhaGabriel_SC\n",
      "inscrição falha: usuário e senha iguais\n"
     ]
    }
   ],
   "source": [
    "Nome = str(input(\"Nome de Usuário\"))\n",
    "Senha = str(input(\"Senha\"))\n",
    "\n",
    "if Nome == Senha:\n",
    "    print(\"inscrição falha: usuário e senha iguais\")"
   ]
  },
  {
   "cell_type": "code",
   "execution_count": 3,
   "metadata": {},
   "outputs": [
    {
     "name": "stdout",
     "output_type": "stream",
     "text": [
      "inscrição falha: usuário e senha iguais\n"
     ]
    }
   ],
   "source": [
    "if Nome == Senha:\n",
    "    print(\"inscrição falha: usuário e senha iguais\")"
   ]
  },
  {
   "cell_type": "code",
   "execution_count": 4,
   "metadata": {},
   "outputs": [
    {
     "ename": "SyntaxError",
     "evalue": "invalid syntax (<ipython-input-4-385d7b1f2549>, line 1)",
     "output_type": "error",
     "traceback": [
      "\u001b[1;36m  File \u001b[1;32m\"<ipython-input-4-385d7b1f2549>\"\u001b[1;36m, line \u001b[1;32m1\u001b[0m\n\u001b[1;33m    else:\u001b[0m\n\u001b[1;37m       ^\u001b[0m\n\u001b[1;31mSyntaxError\u001b[0m\u001b[1;31m:\u001b[0m invalid syntax\n"
     ]
    }
   ],
   "source": [
    "else:\n",
    "    print(inscrição aceita)"
   ]
  },
  {
   "cell_type": "code",
   "execution_count": 5,
   "metadata": {},
   "outputs": [
    {
     "name": "stdout",
     "output_type": "stream",
     "text": [
      "UsuárioRaphael_Tsc\n",
      "SenhaRaph123\n",
      "Inscrição Aceita\n"
     ]
    }
   ],
   "source": [
    "Nome2 = str(input(\"Usuário\"))\n",
    "Senha2 = str(input(\"Senha\"))\n",
    "\n",
    "if Nome2 == Senha2:\n",
    "    print(\"Inscrição inválida: Usuário e Senha iguais\")\n",
    "else:\n",
    "    print(\"Inscrição Aceita\")"
   ]
  },
  {
   "cell_type": "code",
   "execution_count": 6,
   "metadata": {},
   "outputs": [],
   "source": [
    "while Nome != Senha:\n",
    "    print(\"Inscrição Aceita\")"
   ]
  },
  {
   "cell_type": "code",
   "execution_count": 7,
   "metadata": {},
   "outputs": [
    {
     "name": "stdout",
     "output_type": "stream",
     "text": [
      "UsuárioJosé_AC\n",
      "SenhaJosé_AC\n",
      "Inscirção Inválida: Usuário e Senha iguais\n"
     ]
    }
   ],
   "source": [
    "Nome3 = str(input(\"Usuário\"))\n",
    "Senha3 = str(input(\"Senha\"))\n",
    "\n",
    "while Nome3 != Senha3:\n",
    "    print(\"Inscrição Aceita\")\n",
    "else:\n",
    "    print(\"Inscirção Inválida: Usuário e Senha iguais\")"
   ]
  },
  {
   "cell_type": "code",
   "execution_count": null,
   "metadata": {},
   "outputs": [],
   "source": []
  }
 ],
 "metadata": {
  "kernelspec": {
   "display_name": "Python 3",
   "language": "python",
   "name": "python3"
  },
  "language_info": {
   "codemirror_mode": {
    "name": "ipython",
    "version": 3
   },
   "file_extension": ".py",
   "mimetype": "text/x-python",
   "name": "python",
   "nbconvert_exporter": "python",
   "pygments_lexer": "ipython3",
   "version": "3.7.1"
  }
 },
 "nbformat": 4,
 "nbformat_minor": 2
}
