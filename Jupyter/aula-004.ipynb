{
 "cells": [
  {
   "cell_type": "markdown",
   "metadata": {},
   "source": [
    "# Variáveis e Operadores\n",
    "\n",
    "    Existem algumas regras que devem ser seguidas ao definir nomes de variáveis:\n",
    "\n",
    "        1. Não pode começar com número;\n",
    "        2. Não pode ter espaços;\n",
    "        3. Não pode ter símbolos."
   ]
  },
  {
   "cell_type": "markdown",
   "metadata": {},
   "source": [
    "|Dec| Bina    | X|\n",
    "|---|---------|--|\n",
    "|0  | 0 0 0 0 | 0|\n",
    "|1  | 0 0 0 1 | 1|\n",
    "|2  | 0 0 1 0 | 2|\n",
    "|3  | 0 0 1 1 | 3|\n",
    "|4  | 0 1 0 0 | 4|\n",
    "|5  | 0 1 0 1 | 5|\n",
    "|6  | 0 1 1 0 | 6|\n",
    "|7  | 0 1 1 1 | 7|\n",
    "|8  | 1 0 0 0 | 8|\n",
    "|9  | 1 0 0 1 | 9|\n",
    "|10 | 1 0 1 0 | A|\n",
    "|11 | 1 0 1 1 | B|\n",
    "|12 | 1 1 0 0 | C|\n",
    "|14 | 1 1 1 0 | E|\n",
    "|15 | 1 1 1 1 | F|"
   ]
  },
  {
   "cell_type": "code",
   "execution_count": null,
   "metadata": {},
   "outputs": [],
   "source": []
  }
 ],
 "metadata": {
  "kernelspec": {
   "display_name": "Python 3",
   "language": "python",
   "name": "python3"
  },
  "language_info": {
   "codemirror_mode": {
    "name": "ipython",
    "version": 3
   },
   "file_extension": ".py",
   "mimetype": "text/x-python",
   "name": "python",
   "nbconvert_exporter": "python",
   "pygments_lexer": "ipython3",
   "version": "3.7.1"
  }
 },
 "nbformat": 4,
 "nbformat_minor": 2
}
